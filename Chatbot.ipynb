{
  "nbformat": 4,
  "nbformat_minor": 0,
  "metadata": {
    "colab": {
      "name": "Chatbot.ipynb",
      "provenance": []
    },
    "kernelspec": {
      "name": "python3",
      "display_name": "Python 3"
    }
  },
  "cells": [
    {
      "cell_type": "code",
      "metadata": {
        "id": "VFbp0dxrwqN8",
        "colab_type": "code",
        "colab": {
          "base_uri": "https://localhost:8080/",
          "height": 50
        },
        "outputId": "5c5a407b-723c-4ee5-d9c7-09481e5ee051"
      },
      "source": [
        "import nltk\n",
        "nltk.download('punkt')\n",
        "from nltk.stem.lancaster import LancasterStemmer\n",
        "stemmer = LancasterStemmer()"
      ],
      "execution_count": 1,
      "outputs": [
        {
          "output_type": "stream",
          "text": [
            "[nltk_data] Downloading package punkt to /root/nltk_data...\n",
            "[nltk_data]   Package punkt is already up-to-date!\n"
          ],
          "name": "stdout"
        }
      ]
    },
    {
      "cell_type": "code",
      "metadata": {
        "id": "a_ugZZf4DJz4",
        "colab_type": "code",
        "colab": {}
      },
      "source": [
        "import tensorflow as tf\n",
        "import numpy as np\n",
        "import random\n",
        "import json\n",
        "import pickle\n",
        "import spacy\n",
        "import datetime\n",
        "import tflearn\n",
        "import pandas as pd\n",
        "from fuzzywuzzy import process\n",
        "from timefhuman import timefhuman"
      ],
      "execution_count": null,
      "outputs": []
    },
    {
      "cell_type": "code",
      "metadata": {
        "id": "ekC8Tzs7DXDm",
        "colab_type": "code",
        "colab": {}
      },
      "source": [
        "with open('intents.json') as json_data:\n",
        "    intents = json.load(json_data)"
      ],
      "execution_count": null,
      "outputs": []
    },
    {
      "cell_type": "code",
      "metadata": {
        "id": "1x5CU7o5Dcr1",
        "colab_type": "code",
        "colab": {}
      },
      "source": [
        "words = []\n",
        "classes = []\n",
        "documents = []\n",
        "ignore = ['?']\n",
        "\n",
        "for intent in intents['intents']:\n",
        "    for pattern in intent['patterns']:\n",
        "        w = nltk.word_tokenize(pattern)\n",
        "        words.extend(w)\n",
        "        documents.append((w, intent['tag']))\n",
        "        if intent['tag'] not in classes:\n",
        "            classes.append(intent['tag'])"
      ],
      "execution_count": 11,
      "outputs": []
    },
    {
      "cell_type": "code",
      "metadata": {
        "id": "YUNxpyGcDsTQ",
        "colab_type": "code",
        "colab": {
          "base_uri": "https://localhost:8080/",
          "height": 87
        },
        "outputId": "2cc2105c-a89a-48ce-8b87-d0fd17f231b7"
      },
      "source": [
        "words = [stemmer.stem(w.lower()) for w in words if w not in ignore]\n",
        "words = sorted(list(set(words)))\n",
        "\n",
        "classes = sorted(list(set(classes)))\n",
        "\n",
        "print (len(documents), \"documents\")\n",
        "print (len(classes), \"classes\", classes)\n",
        "print (len(words), \"unique stemmed words\", words)"
      ],
      "execution_count": 12,
      "outputs": [
        {
          "output_type": "stream",
          "text": [
            "17 documents\n",
            "4 classes ['book_table', 'goodbye', 'greeting', 'thanks']\n",
            "32 unique stemmed words [\"'s\", 'a', 'any', 'anyon', 'ar', 'at', 'book', 'bye', 'can', 'day', 'do', 'find', 'good', 'goodby', 'hav', 'hello', 'help', 'hi', 'how', 'in', 'is', 'lat', 'me', 'pleas', 'resta', 'seat', 'see', 'tabl', 'thank', 'that', 'ther', 'you']\n"
          ],
          "name": "stdout"
        }
      ]
    },
    {
      "cell_type": "code",
      "metadata": {
        "id": "KB_YCcuEIlXa",
        "colab_type": "code",
        "colab": {}
      },
      "source": [
        "training = []\n",
        "output = []\n",
        "output_empty = [0] * len(classes)\n",
        "\n",
        "for doc in documents:\n",
        "    bag = []\n",
        "    pattern_words = doc[0]\n",
        "    pattern_words = [stemmer.stem(word.lower()) for word in pattern_words]\n",
        "    for w in words:\n",
        "        bag.append(1) if w in pattern_words else bag.append(0)\n",
        "\n",
        "    output_row = list(output_empty)\n",
        "    output_row[classes.index(doc[1])] = 1\n",
        "\n",
        "    training.append([bag, output_row])"
      ],
      "execution_count": 13,
      "outputs": []
    },
    {
      "cell_type": "code",
      "metadata": {
        "id": "8wq2-sEEIyVO",
        "colab_type": "code",
        "colab": {
          "base_uri": "https://localhost:8080/",
          "height": 104
        },
        "outputId": "88e218da-b330-4892-c021-c59f4d56e7b9"
      },
      "source": [
        "random.shuffle(training)\n",
        "training = np.array(training)\n",
        "\n",
        "train_x = list(training[:,0])\n",
        "train_y = list(training[:,1])\n",
        "\n",
        "print(len(train_x))\n",
        "print(train_x)\n",
        "print(len(train_y))\n",
        "print(train_y)"
      ],
      "execution_count": 14,
      "outputs": [
        {
          "output_type": "stream",
          "text": [
            "17\n",
            "[[0, 0, 0, 0, 0, 0, 0, 0, 0, 1, 0, 0, 1, 0, 0, 0, 0, 0, 0, 0, 0, 0, 0, 0, 0, 0, 0, 0, 0, 0, 0, 0], [0, 1, 0, 0, 0, 0, 0, 0, 0, 0, 0, 1, 0, 0, 0, 0, 0, 0, 0, 0, 0, 0, 1, 0, 0, 0, 0, 1, 0, 0, 0, 0], [0, 0, 0, 1, 0, 0, 0, 0, 0, 0, 0, 0, 0, 0, 0, 0, 0, 0, 0, 0, 1, 0, 0, 0, 0, 0, 0, 0, 0, 0, 1, 0], [0, 0, 1, 0, 0, 0, 0, 0, 0, 0, 1, 0, 0, 0, 1, 0, 0, 0, 0, 1, 0, 0, 0, 0, 1, 0, 0, 1, 0, 0, 0, 1], [0, 0, 0, 0, 0, 0, 0, 0, 0, 0, 0, 0, 0, 0, 0, 0, 0, 1, 0, 0, 0, 0, 0, 0, 0, 0, 0, 0, 0, 0, 0, 0], [0, 0, 0, 0, 0, 0, 0, 1, 0, 0, 0, 0, 0, 0, 0, 0, 0, 0, 0, 0, 0, 0, 0, 0, 0, 0, 0, 0, 0, 0, 0, 0], [0, 0, 0, 0, 0, 0, 0, 0, 0, 0, 0, 0, 0, 0, 0, 0, 0, 0, 0, 0, 0, 1, 0, 0, 0, 0, 1, 0, 0, 0, 0, 1], [1, 0, 0, 0, 0, 0, 0, 0, 0, 0, 0, 0, 0, 0, 0, 0, 1, 0, 0, 0, 0, 0, 0, 0, 0, 0, 0, 0, 0, 1, 0, 0], [0, 1, 0, 0, 0, 0, 1, 0, 0, 0, 0, 0, 0, 0, 0, 0, 0, 0, 0, 0, 0, 0, 1, 0, 0, 0, 0, 1, 0, 0, 0, 0], [0, 0, 0, 0, 0, 0, 0, 0, 0, 0, 0, 0, 0, 0, 0, 1, 0, 0, 0, 0, 0, 0, 0, 0, 0, 0, 0, 0, 0, 0, 0, 0], [0, 1, 0, 0, 0, 0, 1, 0, 1, 0, 0, 0, 0, 0, 0, 0, 0, 0, 0, 0, 0, 0, 1, 0, 1, 0, 0, 0, 0, 0, 0, 1], [0, 0, 0, 0, 1, 0, 0, 0, 0, 0, 0, 0, 0, 0, 0, 0, 0, 0, 1, 0, 0, 0, 0, 0, 0, 0, 0, 0, 0, 0, 0, 1], [0, 0, 0, 0, 0, 0, 0, 0, 0, 0, 0, 0, 0, 0, 0, 0, 0, 0, 0, 0, 0, 0, 0, 0, 0, 0, 0, 0, 1, 0, 0, 0], [0, 0, 0, 0, 0, 0, 0, 0, 0, 0, 0, 0, 0, 1, 0, 0, 0, 0, 0, 0, 0, 0, 0, 0, 0, 0, 0, 0, 0, 0, 0, 0], [0, 1, 0, 0, 0, 1, 0, 0, 0, 0, 0, 1, 0, 0, 0, 0, 0, 0, 0, 0, 0, 0, 1, 0, 1, 1, 0, 0, 0, 0, 0, 0], [0, 1, 0, 0, 0, 1, 1, 0, 0, 0, 0, 0, 0, 0, 0, 0, 0, 0, 0, 0, 0, 0, 1, 1, 1, 0, 0, 1, 0, 0, 0, 0], [0, 0, 0, 0, 0, 0, 0, 0, 0, 0, 0, 0, 0, 0, 0, 0, 0, 0, 0, 0, 0, 0, 0, 0, 0, 0, 0, 0, 1, 0, 0, 1]]\n",
            "17\n",
            "[[0, 0, 1, 0], [1, 0, 0, 0], [0, 0, 1, 0], [1, 0, 0, 0], [0, 0, 1, 0], [0, 1, 0, 0], [0, 1, 0, 0], [0, 0, 0, 1], [1, 0, 0, 0], [0, 0, 1, 0], [1, 0, 0, 0], [0, 0, 1, 0], [0, 0, 0, 1], [0, 1, 0, 0], [1, 0, 0, 0], [1, 0, 0, 0], [0, 0, 0, 1]]\n"
          ],
          "name": "stdout"
        }
      ]
    },
    {
      "cell_type": "code",
      "metadata": {
        "id": "KkJDJn2qeheu",
        "colab_type": "code",
        "colab": {}
      },
      "source": [
        "tf.reset_default_graph()\n",
        "\n",
        "net = tflearn.input_data(shape=[None, len(train_x[0])])\n",
        "net = tflearn.fully_connected(net, 10)\n",
        "net = tflearn.fully_connected(net, 10)\n",
        "net = tflearn.fully_connected(net, len(train_y[0]), activation='softmax')\n",
        "net = tflearn.regression(net)\n",
        "\n",
        "model = tflearn.DNN(net, tensorboard_dir='tflearn_logs')"
      ],
      "execution_count": null,
      "outputs": []
    },
    {
      "cell_type": "code",
      "metadata": {
        "id": "tkV9j_QpejsJ",
        "colab_type": "code",
        "colab": {}
      },
      "source": [
        "model.fit(train_x, train_y, n_epoch=500, batch_size=8, show_metric=True)\n",
        "model.save('model.tflearn')"
      ],
      "execution_count": null,
      "outputs": []
    },
    {
      "cell_type": "code",
      "metadata": {
        "id": "owBgu-iIEfpT",
        "colab_type": "code",
        "colab": {}
      },
      "source": [
        "def clean_up_sentence(sentence):\n",
        "    sentence_words = nltk.word_tokenize(sentence)\n",
        "    sentence_words = [stemmer.stem(word.lower()) for word in sentence_words]\n",
        "    return sentence_words\n",
        "\n",
        "def bow(sentence, words):\n",
        "  sentence_words = clean_up_sentence(sentence)\n",
        "  bag = [0]*len(words)  \n",
        "  for s in sentence_words:\n",
        "    for i,w in enumerate(words):\n",
        "      if w == s: \n",
        "        bag[i] = 1\n",
        "\n",
        "    return np.array(bag)"
      ],
      "execution_count": 17,
      "outputs": []
    },
    {
      "cell_type": "code",
      "metadata": {
        "id": "Wu1R7Hy2FitP",
        "colab_type": "code",
        "colab": {}
      },
      "source": [
        "ERROR_THRESHOLD = 0.30"
      ],
      "execution_count": 18,
      "outputs": []
    },
    {
      "cell_type": "code",
      "metadata": {
        "id": "GvJy_6FfF_m0",
        "colab_type": "code",
        "colab": {}
      },
      "source": [
        "def classify(sentence):\n",
        "  results = model.predict([bow(sentence, words)])[0]\n",
        "  results = [[i,r] for i,r in enumerate(results) if r>ERROR_THRESHOLD]\n",
        "  results.sort(key=lambda x: x[1], reverse=True)\n",
        "  return_list = []\n",
        "  for r in results:\n",
        "    return_list.append((classes[r[0]], r[1]))\n",
        "  return return_list"
      ],
      "execution_count": 19,
      "outputs": []
    },
    {
      "cell_type": "code",
      "metadata": {
        "id": "S6fu0FZ1F-Pg",
        "colab_type": "code",
        "colab": {}
      },
      "source": [
        "def response(sentence):\n",
        "  results = classify(sentence)\n",
        "  if results:\n",
        "    while results:\n",
        "      for i in intents['intents']:\n",
        "        if i['tag'] == results[0][0]:\n",
        "          return print(random.choice(i['responses']))\n",
        "\n",
        "      results.pop(0)"
      ],
      "execution_count": 20,
      "outputs": []
    },
    {
      "cell_type": "code",
      "metadata": {
        "id": "IPGt7u8LgbFQ",
        "colab_type": "code",
        "colab": {}
      },
      "source": [
        "def find_restaurant(string, restaurants):\n",
        "    return process.extractOne(string, restaurants)"
      ],
      "execution_count": 21,
      "outputs": []
    },
    {
      "cell_type": "code",
      "metadata": {
        "id": "jYe07j5sgoKA",
        "colab_type": "code",
        "colab": {}
      },
      "source": [
        "def load_data():\n",
        "  \n",
        "  with open('restaurants.txt') as f:\n",
        "    restaurants = f.read().split('\\n')\n",
        "  rest_lower = []\n",
        "\n",
        "  for restaurant in restaurants:\n",
        "    rest_lower.append(restaurant.lower().replace(\"'\", \"\").replace('.', '').replace('!', '').replace('-', ' ').replace('é', 'e'))\n",
        "    \n",
        "  return rest_lower"
      ],
      "execution_count": 22,
      "outputs": []
    },
    {
      "cell_type": "code",
      "metadata": {
        "id": "QGIninsrhImA",
        "colab_type": "code",
        "colab": {}
      },
      "source": [
        "rest_choices = ['Which restaurant do you want to book in?', 'Which restraunt you prefer?', 'Which restaurant do like to book a table in?']\n",
        "date_and_time_choices = ['Which date and time do you prefer?', 'Please tell me your preffered date and time.']\n",
        "people_choices = ['How many people are there?', 'For how many people?']"
      ],
      "execution_count": 23,
      "outputs": []
    },
    {
      "cell_type": "code",
      "metadata": {
        "id": "oRt_YJQVgsP3",
        "colab_type": "code",
        "colab": {}
      },
      "source": [
        "rest_lower = load_data()\n",
        "nlp = spacy.load(\"en_core_web_sm\")"
      ],
      "execution_count": 24,
      "outputs": []
    },
    {
      "cell_type": "code",
      "metadata": {
        "id": "1--8k3x6pyFS",
        "colab_type": "code",
        "colab": {
          "base_uri": "https://localhost:8080/",
          "height": 34
        },
        "outputId": "e884a2b4-3404-4f02-89c8-21c7726a813d"
      },
      "source": [
        "# Find restaurant from the list (with confidence)\n",
        "find_restaurant('box8', rest_lower)"
      ],
      "execution_count": 25,
      "outputs": [
        {
          "output_type": "execute_result",
          "data": {
            "text/plain": [
              "('box8', 100)"
            ]
          },
          "metadata": {
            "tags": []
          },
          "execution_count": 25
        }
      ]
    },
    {
      "cell_type": "code",
      "metadata": {
        "id": "c7kYeotT9VVz",
        "colab_type": "code",
        "colab": {}
      },
      "source": [
        "def book_table(string, restarants):\n",
        "  entities_found = [False, False, False]        # Restaurant name, date and time, # of people\n",
        "  entities = []\n",
        "  first = [True, True, True]\n",
        "  \n",
        "  while not all(entities_found):\n",
        "    \n",
        "    # For Restaurant Name\n",
        "    \n",
        "    while not entities_found[0]:\n",
        "      if first[0]:\n",
        "        _string = string\n",
        "      else:\n",
        "        print(rest_choices[random.choice([x for x in range(len(rest_choices))])])\n",
        "        _string = input()\n",
        "      restaurant = find_restaurant(_string, restarants)\n",
        "      print(restaurant)\n",
        "      if restaurant != None and restaurant[1]>=60:\n",
        "        entities.append(restaurant[0])\n",
        "        entities_found[0] = True\n",
        "      first[0] = False\n",
        "\n",
        "        \n",
        "    # For Date and Time\n",
        "    # Input must be in MM/DD/YYYY with time\n",
        "    # If input contains any integer, it recognizes it as time (even for # of people)\n",
        "\n",
        "    while entities_found[1] == False:\n",
        "      if first[1]:\n",
        "        _string = string\n",
        "      else:\n",
        "        print(date_and_time_choices[random.choice([x for x in range(len(date_and_time_choices))])])\n",
        "        _string = input()\n",
        "      date_time = timefhuman(_string)\n",
        "      print(date_time)\n",
        "      if isinstance(date_time, datetime.datetime):\n",
        "        date_time = date_time\n",
        "      elif len(date_time) == 0:\n",
        "        first[1] = False\n",
        "        continue\n",
        "      else:\n",
        "        date_time = date_time[0]\n",
        "      entities.append(date_time.strftime('%x %X'))\n",
        "      entities_found[1] = True\n",
        "      first[1] = False\n",
        "\n",
        "    # For # of people\n",
        "\n",
        "    while entities_found[2] == False:\n",
        "      if first[2]:\n",
        "        _string = string\n",
        "      else:\n",
        "        print(people_choices[random.choice([x for x in range(len(people_choices))])])\n",
        "        _string = input()\n",
        "      doc = nlp(_string)\n",
        "      for token in doc.ents:\n",
        "        if token.label_ == 'CARDINAL' or token.label_ == 'ORDINAL':\n",
        "          entities.append(token.text)\n",
        "          entities_found[2] = True\n",
        "      first[2] = False\n",
        "    \n",
        "  return entities"
      ],
      "execution_count": 26,
      "outputs": []
    },
    {
      "cell_type": "code",
      "metadata": {
        "id": "HhwlB_hx1uhb",
        "colab_type": "code",
        "colab": {
          "base_uri": "https://localhost:8080/",
          "height": 319
        },
        "outputId": "6117fd1f-5ae0-4b86-ca04-ce107a471b9e"
      },
      "source": [
        "while(True):\n",
        "  raw_input = input()\n",
        "\n",
        "  if raw_input == 'close':\n",
        "    break\n",
        "  if classify(raw_input)[0][0] == 'book_table':\n",
        "    result = book_table(raw_input, rest_lower)\n",
        "    print('-'*50)\n",
        "    print('Table Booked')\n",
        "    print('Resturant:', result[0])\n",
        "    print('Date and Time:', result[1])\n",
        "    print('Number of people:', result[2])\n",
        "    break\n",
        "  else:\n",
        "    response(raw_input)"
      ],
      "execution_count": 28,
      "outputs": [
        {
          "output_type": "stream",
          "text": [
            "hi\n",
            "Hello, thanks for visiting\n",
            "book me a table\n",
            "('taco bell', 51)\n",
            "Which restaurant do like to book a table in?\n",
            "mc donalds\n",
            "('mcdonalds', 95)\n",
            "[]\n",
            "Which date and time do you prefer?\n",
            "08/22/2020 at 8 pm\n",
            "2020-08-22 20:00:00\n",
            "How many people are there?\n",
            "5\n",
            "--------------------------------------------------\n",
            "Table Booked\n",
            "Resturant: mcdonalds\n",
            "Date and Time: 08/22/20 20:00:00\n",
            "Number of people: 5\n"
          ],
          "name": "stdout"
        }
      ]
    }
  ]
}